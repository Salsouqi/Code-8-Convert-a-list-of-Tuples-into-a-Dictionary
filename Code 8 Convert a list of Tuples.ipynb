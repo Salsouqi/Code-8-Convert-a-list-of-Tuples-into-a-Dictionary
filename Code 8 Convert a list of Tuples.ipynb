{
 "cells": [
  {
   "cell_type": "code",
   "execution_count": 1,
   "id": "7411ce40",
   "metadata": {},
   "outputs": [],
   "source": [
    "data_list = [('apple', 5), ('banana', 2), ('orange', 8), ('grapes', 3), ('pineapple', 1)]\n",
    "\n",
    "def convert_to_dictionary(data_list):\n",
    "    result_dict = {}\n",
    "    for item in data_list:\n",
    "        x, y = item\n",
    "        result_dict[x] = y\n",
    "    return result_dict"
   ]
  },
  {
   "cell_type": "code",
   "execution_count": 2,
   "id": "0ba095d3",
   "metadata": {},
   "outputs": [
    {
     "name": "stdout",
     "output_type": "stream",
     "text": [
      "Original Data Type :  [('apple', 5), ('banana', 2), ('orange', 8), ('grapes', 3), ('pineapple', 1)]\n",
      "Converted Data Type:  {'apple': 5, 'banana': 2, 'orange': 8, 'grapes': 3, 'pineapple': 1}\n",
      "5\n"
     ]
    }
   ],
   "source": [
    "# Using function for conversion\n",
    "convert_dict = convert_to_dictionary(data_list)\n",
    "\n",
    "print(\"Original Data Type : \", data_list)\n",
    "print(\"Converted Data Type: \", convert_dict)\n",
    "\n",
    "print(convert_dict['apple'])"
   ]
  }
 ],
 "metadata": {
  "kernelspec": {
   "display_name": "Python 3 (ipykernel)",
   "language": "python",
   "name": "python3"
  },
  "language_info": {
   "codemirror_mode": {
    "name": "ipython",
    "version": 3
   },
   "file_extension": ".py",
   "mimetype": "text/x-python",
   "name": "python",
   "nbconvert_exporter": "python",
   "pygments_lexer": "ipython3",
   "version": "3.11.4"
  }
 },
 "nbformat": 4,
 "nbformat_minor": 5
}
